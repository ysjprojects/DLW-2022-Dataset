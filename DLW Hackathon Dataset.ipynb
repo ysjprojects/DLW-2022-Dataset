{
 "cells": [
  {
   "cell_type": "code",
   "execution_count": 79,
   "id": "7177a413",
   "metadata": {},
   "outputs": [],
   "source": [
    "import numpy as np\n",
    "import pandas as pd\n",
    "import random\n",
    "import datetime\n"
   ]
  },
  {
   "cell_type": "code",
   "execution_count": 117,
   "id": "a3a7bf9f",
   "metadata": {},
   "outputs": [],
   "source": [
    "def generate_random_mac_address(n):\n",
    "    #generate n random mac addresses\n",
    "    \n",
    "    hexchar=['0','1','2','3','4','5','6','7','8','9','A','B','C','D','E','F']\n",
    "    arr = []\n",
    "    exists = {}\n",
    "    while len(arr) < n:\n",
    "        mac_addr = f'{random.choice(hexchar)}{random.choice(hexchar)}-{random.choice(hexchar)}{random.choice(hexchar)}-{random.choice(hexchar)}{random.choice(hexchar)}-{random.choice(hexchar)}{random.choice(hexchar)}-{random.choice(hexchar)}{random.choice(hexchar)}-{random.choice(hexchar)}{random.choice(hexchar)}'\n",
    "        if mac_addr in exists:\n",
    "            continue;\n",
    "        else:\n",
    "            arr.append(mac_addr)\n",
    "            exists[mac_addr] = True\n",
    "            \n",
    "    return arr\n",
    "get_random_mac_address(50000)\n",
    "\n",
    "def generate_random_x_or_y():\n",
    "    return random.randint(0,999)\n",
    "\n",
    "def generate_random_is_active():\n",
    "    return random.choice([True,True,True,True,False])\n",
    "\n",
    "def generate_random_time_stamp():\n",
    "    #Morning (M):0700-0959\n",
    "    #Afternoon (A): 1200-1559\n",
    "    #Evening (E): 1700-1859\n",
    "    #Night (N): 2000-2359\n",
    "    time_of_day = random.choice(['M','A','E','N'])\n",
    "    \n",
    "    if time_of_day == 'M':\n",
    "        return datetime.time(random.randint(7,9),random.randint(0,59), random.randint(0,59))\n",
    "    elif time_of_day == 'A':\n",
    "        return datetime.time(random.randint(12,15),random.randint(0,59), random.randint(0,59))\n",
    "    elif time_of_day == 'E':\n",
    "        return datetime.time(random.randint(17,18),random.randint(0,59), random.randint(0,59))\n",
    "    else:\n",
    "        return datetime.time(random.randint(20,23),random.randint(0,59), random.randint(0,59))\n",
    "    \n",
    "def generate_records_with_constant_coords(mac_addrs):\n",
    "    X = [generate_random_x_or_y() for i in range(len(mac_addrs))]\n",
    "    Y = [generate_random_x_or_y() for i in range(len(mac_addrs))]\n",
    "    mac_df = pd.DataFrame(data={'MAC Address':mac_addrs,'X':X,'Y':Y})\n",
    "    df = pd.DataFrame(data=None, columns=['MAC Address', 'X', 'Y', 'Active', 'Timestamp'])\n",
    "    \n",
    "    for i in range(10):\n",
    "        temp = mac_df \n",
    "        temp['Active'] =[generate_random_is_active() for i in range(len(mac_addrs))]\n",
    "        temp['Timestamp'] = [generate_random_time_stamp() for i in range(len(mac_addrs))]\n",
    "        df = pd.concat([df,temp],axis=0)\n",
    "        \n",
    "    return df.sample(frac=1).reset_index(drop=True) #shuffle df\n",
    "\n",
    "def generate_records_with_changing_coords(mac_addrs):\n",
    "    mac_df = pd.DataFrame(data={'MAC Address':mac_addrs})\n",
    "    df = pd.DataFrame(data=None, columns=['MAC Address', 'X', 'Y', 'Active', 'Timestamp'])\n",
    "    \n",
    "    for i in range(10):\n",
    "        temp = mac_df \n",
    "        temp['X'] = [generate_random_x_or_y() for i in range(len(mac_addrs))]\n",
    "        temp['Y'] = [generate_random_x_or_y() for i in range(len(mac_addrs))]\n",
    "        temp['Active'] =[generate_random_is_active() for i in range(len(mac_addrs))]\n",
    "        temp['Timestamp'] = [generate_random_time_stamp() for i in range(len(mac_addrs))]\n",
    "        df = pd.concat([df,temp],axis=0)\n",
    "        \n",
    "    return df.sample(frac=1).reset_index(drop=True) #shuffle df\n",
    "\n",
    "def combine_records(df1,df2):\n",
    "    return pd.concat([df1,df2],axis=0).sample(frac=1).reset_index(drop=True)\n",
    "\n",
    "def generate_random_type_lookup(mac_addrs):\n",
    "    choices = ['A_1','B_2','C_3','D_4']\n",
    "    df = pd.DataFrame(data={'MAC Address': mac_addrs,'Device Type':[random.choice(choices) for i in range(len(mac_addrs))]})\n",
    "    return df\n",
    "\n",
    "    \n",
    "        \n",
    "            \n",
    "    \n",
    "    "
   ]
  },
  {
   "cell_type": "code",
   "execution_count": 118,
   "id": "78e3e002",
   "metadata": {},
   "outputs": [],
   "source": [
    "mac_addrs = generate_random_mac_address(50000)\n",
    "mac_addrs_1 = mac_addrs[:45000]\n",
    "mac_addrs_2 = mac_addrs[45000:]\n"
   ]
  },
  {
   "cell_type": "code",
   "execution_count": 120,
   "id": "7b5eed0f",
   "metadata": {},
   "outputs": [],
   "source": [
    "df1 =generate_records_with_constant_coords(mac_addrs_1)\n",
    "df2 = generate_records_with_changing_coords(mac_addrs_2)\n",
    "df = combine_records(df1,df2)\n",
    "device_type_df = generate_random_type_lookup(mac_addrs)\n"
   ]
  },
  {
   "cell_type": "code",
   "execution_count": 122,
   "id": "6820b6d2",
   "metadata": {},
   "outputs": [],
   "source": [
    "df.to_csv('iot_device.csv',index=False)\n",
    "device_type_df.to_csv('device_type.csv', index=False)"
   ]
  },
  {
   "cell_type": "code",
   "execution_count": 107,
   "id": "6851702e",
   "metadata": {},
   "outputs": [],
   "source": [
    "\n"
   ]
  },
  {
   "cell_type": "code",
   "execution_count": null,
   "id": "30ef5967",
   "metadata": {},
   "outputs": [],
   "source": []
  },
  {
   "cell_type": "code",
   "execution_count": null,
   "id": "e22ea47b",
   "metadata": {},
   "outputs": [],
   "source": []
  }
 ],
 "metadata": {
  "kernelspec": {
   "display_name": "Python 3 (ipykernel)",
   "language": "python",
   "name": "python3"
  },
  "language_info": {
   "codemirror_mode": {
    "name": "ipython",
    "version": 3
   },
   "file_extension": ".py",
   "mimetype": "text/x-python",
   "name": "python",
   "nbconvert_exporter": "python",
   "pygments_lexer": "ipython3",
   "version": "3.9.12"
  }
 },
 "nbformat": 4,
 "nbformat_minor": 5
}
